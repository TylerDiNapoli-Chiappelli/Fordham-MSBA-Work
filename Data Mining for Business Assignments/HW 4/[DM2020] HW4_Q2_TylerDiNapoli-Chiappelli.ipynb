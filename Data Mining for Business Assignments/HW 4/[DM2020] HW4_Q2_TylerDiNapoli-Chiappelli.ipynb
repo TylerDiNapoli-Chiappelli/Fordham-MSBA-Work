{
 "cells": [
  {
   "cell_type": "markdown",
   "metadata": {
    "colab": {
     "base_uri": "https://localhost:8080/",
     "height": 73,
     "resources": {
      "http://localhost:8080/nbextensions/google.colab/files.js": {
       "data": "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",
       "headers": [
        [
         "content-type",
         "application/javascript"
        ]
       ],
       "ok": true,
       "status": 200,
       "status_text": ""
      }
     }
    },
    "colab_type": "code",
    "id": "dSrlMudVzkLK",
    "outputId": "4f84864c-5861-47c9-f0d3-6eac483095c3"
   },
   "source": [
    "# Question #2:"
   ]
  },
  {
   "cell_type": "markdown",
   "metadata": {},
   "source": [
    "## Question #2, Part A\n",
    "Please see the Word document submitted with the assignment for the written response to Q2 part A"
   ]
  },
  {
   "cell_type": "markdown",
   "metadata": {},
   "source": [
    "## Question #2, Part B (Python)"
   ]
  },
  {
   "cell_type": "code",
   "execution_count": 1,
   "metadata": {
    "colab": {
     "base_uri": "https://localhost:8080/",
     "height": 70
    },
    "colab_type": "code",
    "id": "4i9RU4C60E2e",
    "outputId": "b39b9b46-42b2-4fd6-f10b-1ce303fc0d38"
   },
   "outputs": [
    {
     "name": "stdout",
     "output_type": "stream",
     "text": [
      "-1.3\n"
     ]
    }
   ],
   "source": [
    "import pandas as pd\n",
    "import seaborn as sns\n",
    "import numpy as np\n",
    "from sklearn.model_selection import train_test_split\n",
    "from sklearn.linear_model import LogisticRegression, LogisticRegressionCV\n",
    "\n",
    "# Part 1 Data Acquisition. Read data from a CSV file into a data frame\n",
    "df = pd.read_csv(r'C:\\Users\\Home\\Documents\\Data Mining\\Lecture Slides and Python Examples\\Lecture 7-Logistic Regression for model accuracy\\PersonalLoan.csv')\n",
    "\n",
    "#Part 2: Setting Up Categorical and Numerical Variables\n",
    "\n",
    "#Dropping ZIP CODE as we are not yet ready (10/19/2020) to handle the tons of dummies it creates\n",
    "rvar_list = ['ZIPCode']\n",
    "df_sample1 = df.drop(columns=rvar_list)\n",
    "\n",
    "#Specify Variable Names Based off their definitions\n",
    "cvar_list = ['Education','SecuritiesAccount','CDAccount','Online','CreditCard','PersonalLoan']\n",
    "nvar_list = ['Age','Experience','Income','Family','CCAvg','Mortgage']\n",
    "\n",
    "#Standardizing Numerical variables\n",
    "\n",
    "df_sample2 = df_sample1.copy()\n",
    "    \n",
    "original_column_values = df_sample1[nvar_list]\n",
    "sample_mean = df_sample1[nvar_list].mean()\n",
    "sample_stddev = df_sample1[nvar_list].std()\n",
    "\n",
    "df_sample2[nvar_list] = ((original_column_values - sample_mean)/sample_stddev)\n",
    "\n",
    "#Creating Dummies for Categorical Variables\n",
    "    #Create the dummies\n",
    "df_sample3 = df_sample2.copy()\n",
    "df_sample3[cvar_list] = df_sample2[cvar_list].astype('category')\n",
    "df_sample3[nvar_list] = df_sample2[nvar_list].astype('float64')\n",
    "\n",
    "df_sample4 = df_sample3.copy()\n",
    "df_sample4 = pd.get_dummies(df_sample3, prefix_sep = '_')\n",
    "\n",
    "\n",
    "    #remove one \"redundant dummy\", per each set of dummies\n",
    "rdummies = ['Education_1','SecuritiesAccount_Yes','CDAccount_Yes','Online_Yes','CreditCard_Yes','PersonalLoan_No']\n",
    "df_sample5 = df_sample4.copy()\n",
    "df_sample5 = df_sample4.drop(columns=rdummies)\n",
    "\n",
    "#Part 3: Data Partition:\n",
    "#Splitting the data into our partitions will return two dataframes, so we must prep like so:\n",
    "testpart_size = .2\n",
    "df4partition = df_sample5\n",
    "\n",
    "df_nontestdata, df_testdata = train_test_split(df4partition, test_size = testpart_size, random_state = 1)\n",
    "\n",
    "#Part 4: calculate profits under the naive strategy:\n",
    "#Isolate the dependent variable in the PersonalLoan test partition data\n",
    "index_reset = df_testdata['PersonalLoan_Yes'].reset_index(drop=True)\n",
    "accept_or_decline = index_reset\n",
    "\n",
    "#Since the Bank is pursuing a \"naive strategy\", every single customer will receive a loan offer.\n",
    "#Thus, if the customer accepts, the Bank makes $5. If they do not accept, the Bank loses $2.\n",
    "total_profit = 0\n",
    "for i in range(len(accept_or_decline)):\n",
    "    if accept_or_decline[i] == 1:\n",
    "        profit = 5\n",
    "    elif accept_or_decline[i] == 0:\n",
    "        profit = -2\n",
    "    total_profit += profit\n",
    "    \n",
    "#Calculate average profit\n",
    "average_net_profit = total_profit / len(accept_or_decline)\n",
    "print(average_net_profit)"
   ]
  },
  {
   "cell_type": "markdown",
   "metadata": {
    "colab": {
     "base_uri": "https://localhost:8080/",
     "height": 286
    },
    "colab_type": "code",
    "id": "qx6Gdgiv03zY",
    "outputId": "b7a58a15-be95-4075-8250-8e95c0aa2035"
   },
   "source": [
    "## Question #2, Part B (Explanation):\n",
    "As can be seen from the result of the above code, when the Bank pursues the naive strategy of sending to everyone, they lose an average of $1.30 per customer."
   ]
  },
  {
   "cell_type": "markdown",
   "metadata": {},
   "source": [
    "## Question #2, Part C"
   ]
  },
  {
   "cell_type": "code",
   "execution_count": 2,
   "metadata": {},
   "outputs": [
    {
     "name": "stdout",
     "output_type": "stream",
     "text": [
      "                             0\n",
      "Age                   0.000000\n",
      "Experience            0.182282\n",
      "Income                2.225531\n",
      "Family                0.635112\n",
      "CCAvg                 0.122225\n",
      "Mortgage             -0.008906\n",
      "Education_2           2.515176\n",
      "Education_3           2.022576\n",
      "SecuritiesAccount_No  0.000000\n",
      "CDAccount_No         -2.824235\n",
      "Online_No             0.444838\n",
      "CreditCard_No         0.313069\n",
      "Intercept            -3.121575\n",
      "[2.04081633]\n",
      "If the Bank accepts the final selected model and the decision rule from Part A, then the average profit over the test partition will be $ 0.328\n"
     ]
    }
   ],
   "source": [
    "#Logistic Regression Analysis over the test partition:\n",
    "DV = 'PersonalLoan_Yes'\n",
    "y = df_testdata[DV]\n",
    "x = df_testdata.drop(columns = [DV])\n",
    "\n",
    "def summary_coef(model_object):\n",
    "    n_predictors = x.shape[1]\n",
    "    model_coef = pd.DataFrame(model_object.coef_.reshape(1,n_predictors),columns = x.columns.values)\n",
    "    model_coef['Intercept'] = model_object.intercept_\n",
    "    return (model_coef.transpose())\n",
    "\n",
    "#Setup Logistic Regression with k-folds = 5\n",
    "kfolds = 5\n",
    "\n",
    "#Specifying the alpha range for the logistic regression function\n",
    "min_alpha = .01\n",
    "max_alpha = 100\n",
    "\n",
    "max_C = 1/min_alpha\n",
    "min_C = 1/max_alpha\n",
    "\n",
    "#Because there are infinite values between min_alpha and max_alpha, we must specify how many alphas Python should look for\n",
    "#Python will then divide that interval into an even number of searches.\n",
    "n_candidates = 10000\n",
    "c_list= list(np.linspace(min_C, max_C, num = n_candidates))\n",
    "\n",
    "#Incorporating expected profit calculations into the optimal model selection\n",
    "#Note; relative to the function above, we made some tweaks to fit the code better with the logistic CV function.\n",
    "def profit_calculation (model,x_value,y_value):\n",
    "    #This is the cutoff value that results from revenue of $5 per customer loan acceptance and cost of $2 per sending\n",
    "    #Please see Question 2, Part A for the calculation\n",
    "    d_cutoff = 2/7\n",
    "    decision = list(model.predict_proba(x_value)[:,1] > d_cutoff)\n",
    "    y = list(y_value)\n",
    "    #With this list of classified binaries, we can now calculate total profit\n",
    "    n_obs = len(y)\n",
    "\n",
    "    total_profit = 0\n",
    "    for i in range(n_obs):\n",
    "        if decision[i] == True and y[i] == 1:\n",
    "            profit = 5\n",
    "        elif decision[i] == True and y[i] == 0:\n",
    "            profit = -2\n",
    "        else:\n",
    "            profit = 0\n",
    "        total_profit += profit\n",
    "    #Calculate average profit\n",
    "    average_net_profit = total_profit / n_obs\n",
    "    return average_net_profit\n",
    "\n",
    "#Plug in clf_optimal to our previous Logistic model to find the optimal predictors\n",
    "clf_optimal = LogisticRegressionCV(Cs = c_list,cv=kfolds, scoring = profit_calculation, penalty = 'l1',solver='saga',max_iter=200, random_state=1, n_jobs = -1).fit(x,y)\n",
    "\n",
    "print(summary_coef(clf_optimal))\n",
    "\n",
    "#Find the optimal selected alpha\n",
    "print(1/clf_optimal.C_)\n",
    "\n",
    "#Calculate profit\n",
    "print(\"If the Bank accepts the final selected model and the decision rule from Part A, then the average profit over the test partition will be $\",profit_calculation(clf_optimal,x,y))"
   ]
  },
  {
   "cell_type": "markdown",
   "metadata": {},
   "source": [
    "## Question #2, Part D\n",
    "The naive strategy carried an average net profit of -1.3 dollars. The optimal model carried an average net profit of .328 dollars. This is a swing of .328 -(-1.3) = 1.628 dollars."
   ]
  },
  {
   "cell_type": "markdown",
   "metadata": {},
   "source": [
    "## Question #2, Part E (Python)"
   ]
  },
  {
   "cell_type": "code",
   "execution_count": 3,
   "metadata": {},
   "outputs": [
    {
     "name": "stdout",
     "output_type": "stream",
     "text": [
      "                             0\n",
      "Age                   0.000000\n",
      "Experience            0.182282\n",
      "Income                2.225531\n",
      "Family                0.635112\n",
      "CCAvg                 0.122225\n",
      "Mortgage             -0.008906\n",
      "Education_2           2.515176\n",
      "Education_3           2.022576\n",
      "SecuritiesAccount_No  0.000000\n",
      "CDAccount_No         -2.824235\n",
      "Online_No             0.444838\n",
      "CreditCard_No         0.313069\n",
      "Intercept            -3.121575\n",
      "[2.04081633]\n",
      "If the Bank accepts the final selected model and the decision rule from Part A, then the average profit over the test partition will be $ 1.312\n"
     ]
    }
   ],
   "source": [
    "#Revenue in the profit calculation has been updated to 20 and costs to 8\n",
    "def profit_calculation_updated (model,x_value,y_value):\n",
    "    #This is the cutoff value that results from revenue of $5 per customer loan acceptance and cost of $2 per sending\n",
    "    #With an updated expected revenue of 20 and cost of 8, this is the new decision cut-off\n",
    "    d_cutoff = 8/28\n",
    "    decision = list(model.predict_proba(x_value)[:,1] > d_cutoff)\n",
    "    y = list(y_value)\n",
    "    #With this list of classified binaries, we can now calculate total profit\n",
    "    n_obs = len(y)\n",
    "\n",
    "    total_profit = 0\n",
    "    for i in range(n_obs):\n",
    "        if decision[i] == True and y[i] == 1:\n",
    "            profit = 20\n",
    "        elif decision[i] == True and y[i] == 0:\n",
    "            profit = -8\n",
    "        else:\n",
    "            profit = 0\n",
    "        total_profit += profit\n",
    "    #Calculate average profit\n",
    "    average_net_profit = total_profit / n_obs\n",
    "    return average_net_profit\n",
    "\n",
    "#Plug in clf_optimal to our previous Logistic model to find the optimal predictors\n",
    "clf_optimal = LogisticRegressionCV(Cs = c_list,cv=kfolds, scoring = profit_calculation_updated, penalty = 'l1',solver='saga',max_iter=200, random_state=1, n_jobs = -1).fit(x,y)\n",
    "\n",
    "print(summary_coef(clf_optimal))\n",
    "\n",
    "#Find the optimal selected alpha\n",
    "print(1/clf_optimal.C_)\n",
    "\n",
    "#Calculate profit\n",
    "print(\"If the Bank accepts the final selected model and the decision rule from Part A, then the average profit over the test partition will be $\",profit_calculation_updated(clf_optimal,x,y))"
   ]
  },
  {
   "cell_type": "markdown",
   "metadata": {},
   "source": [
    "## Question #2, Part E (Explanation):\n",
    "Inspecting the two coefficient/alpha output tables, it can be observed that the final selected model, after updating revenue and costs, is no different than the prior final selected model. The altered revenue and costs only changed the resultant profit.\n",
    "\n"
   ]
  },
  {
   "cell_type": "code",
   "execution_count": null,
   "metadata": {},
   "outputs": [],
   "source": [
    "\n"
   ]
  },
  {
   "cell_type": "code",
   "execution_count": null,
   "metadata": {},
   "outputs": [],
   "source": []
  },
  {
   "cell_type": "code",
   "execution_count": null,
   "metadata": {},
   "outputs": [],
   "source": []
  },
  {
   "cell_type": "code",
   "execution_count": null,
   "metadata": {},
   "outputs": [],
   "source": []
  },
  {
   "cell_type": "code",
   "execution_count": null,
   "metadata": {},
   "outputs": [],
   "source": [
    "\n"
   ]
  },
  {
   "cell_type": "code",
   "execution_count": null,
   "metadata": {},
   "outputs": [],
   "source": []
  },
  {
   "cell_type": "code",
   "execution_count": null,
   "metadata": {},
   "outputs": [],
   "source": []
  }
 ],
 "metadata": {
  "colab": {
   "collapsed_sections": [],
   "name": "DataAcquisition&Exploration.ipynb",
   "provenance": []
  },
  "kernelspec": {
   "display_name": "Python 3",
   "language": "python",
   "name": "python3"
  },
  "language_info": {
   "codemirror_mode": {
    "name": "ipython",
    "version": 3
   },
   "file_extension": ".py",
   "mimetype": "text/x-python",
   "name": "python",
   "nbconvert_exporter": "python",
   "pygments_lexer": "ipython3",
   "version": "3.8.3"
  }
 },
 "nbformat": 4,
 "nbformat_minor": 1
}
