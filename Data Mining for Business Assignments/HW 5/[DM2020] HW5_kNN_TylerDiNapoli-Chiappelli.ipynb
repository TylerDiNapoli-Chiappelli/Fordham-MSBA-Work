{
 "cells": [
  {
   "cell_type": "markdown",
   "metadata": {},
   "source": [
    "# Part 1: Importing Packages and Cleaning/Setting Up Data"
   ]
  },
  {
   "cell_type": "code",
   "execution_count": 4,
   "metadata": {},
   "outputs": [],
   "source": [
    "#Import Needed Packages\n",
    "import pandas as pd\n",
    "import seaborn as sns\n",
    "import numpy as np\n",
    "from sklearn.model_selection import train_test_split\n",
    "import statistics as stat\n",
    "from sklearn import metrics\n",
    "from sklearn.neighbors import KNeighborsClassifier\n",
    "from sklearn.model_selection import GridSearchCV\n",
    "from sklearn.metrics import roc_auc_score\n",
    "\n",
    "#read in the data\n",
    "df = pd.read_csv(r'C:\\Users\\Home\\Documents\\Data Mining\\Assignments\\Assignment 4\\HW4_FlightDelays.csv')\n",
    "\n",
    "#drop \"Weather\" as it is not an ex-ante predictor\n",
    "df.drop('Weather', axis=1, inplace=True)\n",
    "\n",
    "#Group variables into a list based on type (there are no numeric variables in this data set)\n",
    "cvar_list = ['Binned_CRS_DEP_TIME','CARRIER','DEST','ORIGIN','DAY_WEEK','Flight Status']\n",
    "\n",
    "#Creating Dummies for Categorical Variables\n",
    "df2 = df.copy()\n",
    "df2[cvar_list] = df[cvar_list].astype('category')\n",
    "df2 = pd.get_dummies(df2, prefix_sep = '_')\n",
    "\n",
    "#remove redundant dummy for dependent variable only\n",
    "delay_rdummy = 'Flight Status_On-time'\n",
    "rdummies = [delay_rdummy]\n",
    "df3 = df2.copy()\n",
    "df3 = df2.drop(columns=rdummies)\n",
    "\n",
    "#Data Partition:\n",
    "#Splitting the data into our partitions will return two dataframes, so we must prep like so:\n",
    "testpart_size = .2\n",
    "df_partition = df3\n",
    "\n",
    "df_nontestdata, df_testdata = train_test_split(df_partition, test_size = testpart_size, random_state = 1)"
   ]
  },
  {
   "cell_type": "markdown",
   "metadata": {},
   "source": [
    "# Run KNN Process Over the Validation Partition"
   ]
  },
  {
   "cell_type": "code",
   "execution_count": 9,
   "metadata": {},
   "outputs": [
    {
     "name": "stdout",
     "output_type": "stream",
     "text": [
      "The optimal k in the validation partition is 28\n",
      "The AUC in the validation partition is 0.7591232237328394\n"
     ]
    }
   ],
   "source": [
    "# Separate the predictor values and the DV values into X and y respectively\n",
    "# Placeholder variable: DV\n",
    "DV = 'Flight Status_Delayed'\n",
    "y = df_nontestdata[DV]\n",
    "X = df_nontestdata.drop(columns=[DV])\n",
    "\n",
    "# Run Nearest Neighbors with k-fold cross validation with k=5\n",
    "# Placeholder variable: kfolds\n",
    "kfolds = 5\n",
    "\n",
    "# Here we specify within which range of Ks we will search through\n",
    "max_k = 200\n",
    "\n",
    "param_grid = {'n_neighbors': list(range(1, max_k+1))}\n",
    "\n",
    "# Set n_jobs to be -1 to run  on all CPU cores.\n",
    "# The search criterion is to find the model that maximizes whatever the scoring function - for this case roc_auc - returns.\n",
    "gridsearch = GridSearchCV(KNeighborsClassifier(metric = 'euclidean'), param_grid, scoring='roc_auc', cv=kfolds, n_jobs=-1)\n",
    "gridsearch.fit(X,y)\n",
    "clf_bestKNN = gridsearch.best_estimator_\n",
    "\n",
    "# Display optimal k\n",
    "print('The optimal k in the validation partition is',clf_bestKNN.n_neighbors)\n",
    "\n",
    "# y_nontest_actual is the actual values of the DV in the validation partition\n",
    "y_nontest_actual = df_nontestdata[DV]\n",
    "\n",
    "# X_test is the predictor values in the test partition\n",
    "X_nontest = df_nontestdata.drop(columns=[DV])\n",
    "\n",
    "# Get the AUC of the best model\n",
    "print('The AUC in the validation partition is',roc_auc_score(y_nontest_actual, clf_bestKNN.predict_proba(X_nontest)[:,1]))"
   ]
  },
  {
   "cell_type": "markdown",
   "metadata": {},
   "source": [
    "# Run KNN Process Over the Test Partition"
   ]
  },
  {
   "cell_type": "code",
   "execution_count": 10,
   "metadata": {},
   "outputs": [
    {
     "name": "stdout",
     "output_type": "stream",
     "text": [
      "The optimal k in the test partition is 34\n",
      "The AUC in the test partition is 0.6995306633291615\n"
     ]
    }
   ],
   "source": [
    "# Separate the predictor values and the DV values into X and y respectively\n",
    "# Placeholder variable: DV\n",
    "DV = 'Flight Status_Delayed'\n",
    "y2 = df_testdata[DV]\n",
    "X2 = df_testdata.drop(columns=[DV])\n",
    "\n",
    "# Run Nearest Neighbors with k-fold cross validation with k=5\n",
    "# Placeholder variable: kfolds\n",
    "kfolds = 5\n",
    "\n",
    "# Here we specify within which range of Ks we will search through\n",
    "max_k = 200\n",
    "\n",
    "param_grid = {'n_neighbors': list(range(1, max_k+1))}\n",
    "\n",
    "# Set n_jobs to be -1 to run  on all CPU cores.\n",
    "# The search criterion is to find the model that maximizes whatever the scoring function - for this case roc_auc - returns.\n",
    "gridsearch2 = GridSearchCV(KNeighborsClassifier(metric = 'euclidean'), param_grid, scoring='roc_auc', cv=kfolds, n_jobs=-1)\n",
    "gridsearch2.fit(X2,y2)\n",
    "clf_bestKNN2 = gridsearch2.best_estimator_\n",
    "\n",
    "# Display optimal k\n",
    "print('The optimal k in the test partition is',clf_bestKNN2.n_neighbors)\n",
    "\n",
    "# y_nontest_actual is the actual values of the DV in the validation partition\n",
    "y_test_actual = df_testdata[DV]\n",
    "\n",
    "# X_test is the predictor values in the test partition\n",
    "X_test = df_testdata.drop(columns=[DV])\n",
    "\n",
    "# Get the AUC of the best model\n",
    "print('The AUC in the test partition is',roc_auc_score(y_test_actual, clf_bestKNN2.predict_proba(X_test)[:,1]))"
   ]
  },
  {
   "cell_type": "code",
   "execution_count": null,
   "metadata": {},
   "outputs": [],
   "source": []
  }
 ],
 "metadata": {
  "kernelspec": {
   "display_name": "Python 3",
   "language": "python",
   "name": "python3"
  },
  "language_info": {
   "codemirror_mode": {
    "name": "ipython",
    "version": 3
   },
   "file_extension": ".py",
   "mimetype": "text/x-python",
   "name": "python",
   "nbconvert_exporter": "python",
   "pygments_lexer": "ipython3",
   "version": "3.8.3"
  }
 },
 "nbformat": 4,
 "nbformat_minor": 4
}
