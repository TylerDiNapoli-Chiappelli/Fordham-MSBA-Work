{
 "cells": [
  {
   "cell_type": "markdown",
   "metadata": {},
   "source": [
    "The next several cells of Python code, from importing all packages I need to running the two LASSO regressions at alpha = .1 and alpha = .01, are all Question #1, part a and part b."
   ]
  },
  {
   "cell_type": "code",
   "execution_count": 1,
   "metadata": {},
   "outputs": [
    {
     "name": "stderr",
     "output_type": "stream",
     "text": [
      "C:\\Users\\Home\\anaconda3\\lib\\site-packages\\sklearn\\utils\\deprecation.py:143: FutureWarning: The sklearn.metrics.classification module is  deprecated in version 0.22 and will be removed in version 0.24. The corresponding classes / functions should instead be imported from sklearn.metrics. Anything that cannot be imported from sklearn.metrics is now part of the private API.\n",
      "  warnings.warn(message, FutureWarning)\n"
     ]
    }
   ],
   "source": [
    "#import relevant packages and data\n",
    "import pandas as pd\n",
    "import seaborn as sns\n",
    "import numpy as np\n",
    "from sklearn.model_selection import train_test_split\n",
    "from sklearn.linear_model import Lasso, LassoCV\n",
    "from yellowbrick.regressor.alphas import alphas\n",
    "\n",
    "data = pd.read_csv(r'C:\\Users\\Home\\Documents\\Data Mining\\Assignments\\Assignment 3\\HW3_Airfares_Selected.csv')\n",
    "\n",
    "#generate lists of categorical and numerical variables\n",
    "cvar_list = ['VACATION', 'SW', 'SLOT','GATE']\n",
    "nvar_list = ['S_INCOME','E_INCOME','S_POP','E_POP','DISTANCE','FARE']"
   ]
  },
  {
   "cell_type": "code",
   "execution_count": 2,
   "metadata": {},
   "outputs": [],
   "source": [
    "#standardizing numerical values for use in model\n",
    "standardized_data = data.copy()\n",
    "\n",
    "original_column_values = data[nvar_list]\n",
    "sample_mean = data[nvar_list].mean()\n",
    "sample_stddev = data[nvar_list].std()\n",
    "\n",
    "standardized_data[nvar_list] = ((original_column_values - sample_mean)/sample_stddev)"
   ]
  },
  {
   "cell_type": "code",
   "execution_count": 3,
   "metadata": {},
   "outputs": [
    {
     "data": {
      "text/html": [
       "<div>\n",
       "<style scoped>\n",
       "    .dataframe tbody tr th:only-of-type {\n",
       "        vertical-align: middle;\n",
       "    }\n",
       "\n",
       "    .dataframe tbody tr th {\n",
       "        vertical-align: top;\n",
       "    }\n",
       "\n",
       "    .dataframe thead th {\n",
       "        text-align: right;\n",
       "    }\n",
       "</style>\n",
       "<table border=\"1\" class=\"dataframe\">\n",
       "  <thead>\n",
       "    <tr style=\"text-align: right;\">\n",
       "      <th></th>\n",
       "      <th>VACATION</th>\n",
       "      <th>SW</th>\n",
       "      <th>S_INCOME</th>\n",
       "      <th>E_INCOME</th>\n",
       "      <th>S_POP</th>\n",
       "      <th>E_POP</th>\n",
       "      <th>SLOT</th>\n",
       "      <th>GATE</th>\n",
       "      <th>DISTANCE</th>\n",
       "      <th>FARE</th>\n",
       "    </tr>\n",
       "  </thead>\n",
       "  <tbody>\n",
       "    <tr>\n",
       "      <th>0</th>\n",
       "      <td>No</td>\n",
       "      <td>Yes</td>\n",
       "      <td>28637</td>\n",
       "      <td>21112</td>\n",
       "      <td>3036732</td>\n",
       "      <td>205711</td>\n",
       "      <td>Free</td>\n",
       "      <td>Free</td>\n",
       "      <td>312</td>\n",
       "      <td>64.11</td>\n",
       "    </tr>\n",
       "    <tr>\n",
       "      <th>1</th>\n",
       "      <td>No</td>\n",
       "      <td>No</td>\n",
       "      <td>26993</td>\n",
       "      <td>29838</td>\n",
       "      <td>3532657</td>\n",
       "      <td>7145897</td>\n",
       "      <td>Free</td>\n",
       "      <td>Free</td>\n",
       "      <td>576</td>\n",
       "      <td>174.47</td>\n",
       "    </tr>\n",
       "    <tr>\n",
       "      <th>2</th>\n",
       "      <td>No</td>\n",
       "      <td>No</td>\n",
       "      <td>30124</td>\n",
       "      <td>29838</td>\n",
       "      <td>5787293</td>\n",
       "      <td>7145897</td>\n",
       "      <td>Free</td>\n",
       "      <td>Free</td>\n",
       "      <td>364</td>\n",
       "      <td>207.76</td>\n",
       "    </tr>\n",
       "    <tr>\n",
       "      <th>3</th>\n",
       "      <td>No</td>\n",
       "      <td>Yes</td>\n",
       "      <td>29260</td>\n",
       "      <td>29838</td>\n",
       "      <td>7830332</td>\n",
       "      <td>7145897</td>\n",
       "      <td>Controlled</td>\n",
       "      <td>Free</td>\n",
       "      <td>612</td>\n",
       "      <td>85.47</td>\n",
       "    </tr>\n",
       "    <tr>\n",
       "      <th>4</th>\n",
       "      <td>No</td>\n",
       "      <td>Yes</td>\n",
       "      <td>29260</td>\n",
       "      <td>29838</td>\n",
       "      <td>7830332</td>\n",
       "      <td>7145897</td>\n",
       "      <td>Free</td>\n",
       "      <td>Free</td>\n",
       "      <td>612</td>\n",
       "      <td>85.47</td>\n",
       "    </tr>\n",
       "    <tr>\n",
       "      <th>5</th>\n",
       "      <td>No</td>\n",
       "      <td>Yes</td>\n",
       "      <td>26046</td>\n",
       "      <td>29838</td>\n",
       "      <td>2230955</td>\n",
       "      <td>7145897</td>\n",
       "      <td>Free</td>\n",
       "      <td>Free</td>\n",
       "      <td>309</td>\n",
       "      <td>56.76</td>\n",
       "    </tr>\n",
       "    <tr>\n",
       "      <th>6</th>\n",
       "      <td>No</td>\n",
       "      <td>No</td>\n",
       "      <td>28637</td>\n",
       "      <td>29838</td>\n",
       "      <td>3036732</td>\n",
       "      <td>7145897</td>\n",
       "      <td>Free</td>\n",
       "      <td>Free</td>\n",
       "      <td>1220</td>\n",
       "      <td>228.00</td>\n",
       "    </tr>\n",
       "    <tr>\n",
       "      <th>7</th>\n",
       "      <td>Yes</td>\n",
       "      <td>Yes</td>\n",
       "      <td>26752</td>\n",
       "      <td>29838</td>\n",
       "      <td>1440377</td>\n",
       "      <td>7145897</td>\n",
       "      <td>Free</td>\n",
       "      <td>Free</td>\n",
       "      <td>921</td>\n",
       "      <td>116.54</td>\n",
       "    </tr>\n",
       "    <tr>\n",
       "      <th>8</th>\n",
       "      <td>No</td>\n",
       "      <td>Yes</td>\n",
       "      <td>27211</td>\n",
       "      <td>29838</td>\n",
       "      <td>3770125</td>\n",
       "      <td>7145897</td>\n",
       "      <td>Free</td>\n",
       "      <td>Free</td>\n",
       "      <td>1249</td>\n",
       "      <td>172.63</td>\n",
       "    </tr>\n",
       "    <tr>\n",
       "      <th>9</th>\n",
       "      <td>No</td>\n",
       "      <td>Yes</td>\n",
       "      <td>25450</td>\n",
       "      <td>29838</td>\n",
       "      <td>1694803</td>\n",
       "      <td>7145897</td>\n",
       "      <td>Free</td>\n",
       "      <td>Free</td>\n",
       "      <td>964</td>\n",
       "      <td>114.76</td>\n",
       "    </tr>\n",
       "  </tbody>\n",
       "</table>\n",
       "</div>"
      ],
      "text/plain": [
       "  VACATION   SW  S_INCOME  E_INCOME    S_POP    E_POP        SLOT  GATE  \\\n",
       "0       No  Yes     28637     21112  3036732   205711        Free  Free   \n",
       "1       No   No     26993     29838  3532657  7145897        Free  Free   \n",
       "2       No   No     30124     29838  5787293  7145897        Free  Free   \n",
       "3       No  Yes     29260     29838  7830332  7145897  Controlled  Free   \n",
       "4       No  Yes     29260     29838  7830332  7145897        Free  Free   \n",
       "5       No  Yes     26046     29838  2230955  7145897        Free  Free   \n",
       "6       No   No     28637     29838  3036732  7145897        Free  Free   \n",
       "7      Yes  Yes     26752     29838  1440377  7145897        Free  Free   \n",
       "8       No  Yes     27211     29838  3770125  7145897        Free  Free   \n",
       "9       No  Yes     25450     29838  1694803  7145897        Free  Free   \n",
       "\n",
       "   DISTANCE    FARE  \n",
       "0       312   64.11  \n",
       "1       576  174.47  \n",
       "2       364  207.76  \n",
       "3       612   85.47  \n",
       "4       612   85.47  \n",
       "5       309   56.76  \n",
       "6      1220  228.00  \n",
       "7       921  116.54  \n",
       "8      1249  172.63  \n",
       "9       964  114.76  "
      ]
     },
     "execution_count": 3,
     "metadata": {},
     "output_type": "execute_result"
    }
   ],
   "source": [
    "data.head(10)"
   ]
  },
  {
   "cell_type": "code",
   "execution_count": 4,
   "metadata": {},
   "outputs": [
    {
     "data": {
      "text/html": [
       "<div>\n",
       "<style scoped>\n",
       "    .dataframe tbody tr th:only-of-type {\n",
       "        vertical-align: middle;\n",
       "    }\n",
       "\n",
       "    .dataframe tbody tr th {\n",
       "        vertical-align: top;\n",
       "    }\n",
       "\n",
       "    .dataframe thead th {\n",
       "        text-align: right;\n",
       "    }\n",
       "</style>\n",
       "<table border=\"1\" class=\"dataframe\">\n",
       "  <thead>\n",
       "    <tr style=\"text-align: right;\">\n",
       "      <th></th>\n",
       "      <th>VACATION</th>\n",
       "      <th>SW</th>\n",
       "      <th>S_INCOME</th>\n",
       "      <th>E_INCOME</th>\n",
       "      <th>S_POP</th>\n",
       "      <th>E_POP</th>\n",
       "      <th>SLOT</th>\n",
       "      <th>GATE</th>\n",
       "      <th>DISTANCE</th>\n",
       "      <th>FARE</th>\n",
       "    </tr>\n",
       "  </thead>\n",
       "  <tbody>\n",
       "    <tr>\n",
       "      <th>0</th>\n",
       "      <td>No</td>\n",
       "      <td>Yes</td>\n",
       "      <td>0.242677</td>\n",
       "      <td>-1.422984</td>\n",
       "      <td>-0.507259</td>\n",
       "      <td>-1.092213</td>\n",
       "      <td>Free</td>\n",
       "      <td>Free</td>\n",
       "      <td>-1.024949</td>\n",
       "      <td>-1.271156</td>\n",
       "    </tr>\n",
       "    <tr>\n",
       "      <th>1</th>\n",
       "      <td>No</td>\n",
       "      <td>No</td>\n",
       "      <td>-0.214056</td>\n",
       "      <td>0.468595</td>\n",
       "      <td>-0.342618</td>\n",
       "      <td>1.441319</td>\n",
       "      <td>Free</td>\n",
       "      <td>Free</td>\n",
       "      <td>-0.616284</td>\n",
       "      <td>0.178752</td>\n",
       "    </tr>\n",
       "    <tr>\n",
       "      <th>2</th>\n",
       "      <td>No</td>\n",
       "      <td>No</td>\n",
       "      <td>0.655793</td>\n",
       "      <td>0.468595</td>\n",
       "      <td>0.405893</td>\n",
       "      <td>1.441319</td>\n",
       "      <td>Free</td>\n",
       "      <td>Free</td>\n",
       "      <td>-0.944455</td>\n",
       "      <td>0.616116</td>\n",
       "    </tr>\n",
       "    <tr>\n",
       "      <th>3</th>\n",
       "      <td>No</td>\n",
       "      <td>Yes</td>\n",
       "      <td>0.415758</td>\n",
       "      <td>0.468595</td>\n",
       "      <td>1.084157</td>\n",
       "      <td>1.441319</td>\n",
       "      <td>Controlled</td>\n",
       "      <td>Free</td>\n",
       "      <td>-0.560557</td>\n",
       "      <td>-0.990529</td>\n",
       "    </tr>\n",
       "    <tr>\n",
       "      <th>4</th>\n",
       "      <td>No</td>\n",
       "      <td>Yes</td>\n",
       "      <td>0.415758</td>\n",
       "      <td>0.468595</td>\n",
       "      <td>1.084157</td>\n",
       "      <td>1.441319</td>\n",
       "      <td>Free</td>\n",
       "      <td>Free</td>\n",
       "      <td>-0.560557</td>\n",
       "      <td>-0.990529</td>\n",
       "    </tr>\n",
       "    <tr>\n",
       "      <th>5</th>\n",
       "      <td>No</td>\n",
       "      <td>Yes</td>\n",
       "      <td>-0.477149</td>\n",
       "      <td>0.468595</td>\n",
       "      <td>-0.774767</td>\n",
       "      <td>1.441319</td>\n",
       "      <td>Free</td>\n",
       "      <td>Free</td>\n",
       "      <td>-1.029593</td>\n",
       "      <td>-1.367721</td>\n",
       "    </tr>\n",
       "    <tr>\n",
       "      <th>6</th>\n",
       "      <td>No</td>\n",
       "      <td>No</td>\n",
       "      <td>0.242677</td>\n",
       "      <td>0.468595</td>\n",
       "      <td>-0.507259</td>\n",
       "      <td>1.441319</td>\n",
       "      <td>Free</td>\n",
       "      <td>Free</td>\n",
       "      <td>0.380612</td>\n",
       "      <td>0.882029</td>\n",
       "    </tr>\n",
       "    <tr>\n",
       "      <th>7</th>\n",
       "      <td>Yes</td>\n",
       "      <td>Yes</td>\n",
       "      <td>-0.281010</td>\n",
       "      <td>0.468595</td>\n",
       "      <td>-1.037229</td>\n",
       "      <td>1.441319</td>\n",
       "      <td>Free</td>\n",
       "      <td>Free</td>\n",
       "      <td>-0.082233</td>\n",
       "      <td>-0.582332</td>\n",
       "    </tr>\n",
       "    <tr>\n",
       "      <th>8</th>\n",
       "      <td>No</td>\n",
       "      <td>Yes</td>\n",
       "      <td>-0.153491</td>\n",
       "      <td>0.468595</td>\n",
       "      <td>-0.263782</td>\n",
       "      <td>1.441319</td>\n",
       "      <td>Free</td>\n",
       "      <td>Free</td>\n",
       "      <td>0.425503</td>\n",
       "      <td>0.154578</td>\n",
       "    </tr>\n",
       "    <tr>\n",
       "      <th>9</th>\n",
       "      <td>No</td>\n",
       "      <td>Yes</td>\n",
       "      <td>-0.642729</td>\n",
       "      <td>0.468595</td>\n",
       "      <td>-0.952763</td>\n",
       "      <td>1.441319</td>\n",
       "      <td>Free</td>\n",
       "      <td>Free</td>\n",
       "      <td>-0.015670</td>\n",
       "      <td>-0.605717</td>\n",
       "    </tr>\n",
       "  </tbody>\n",
       "</table>\n",
       "</div>"
      ],
      "text/plain": [
       "  VACATION   SW  S_INCOME  E_INCOME     S_POP     E_POP        SLOT  GATE  \\\n",
       "0       No  Yes  0.242677 -1.422984 -0.507259 -1.092213        Free  Free   \n",
       "1       No   No -0.214056  0.468595 -0.342618  1.441319        Free  Free   \n",
       "2       No   No  0.655793  0.468595  0.405893  1.441319        Free  Free   \n",
       "3       No  Yes  0.415758  0.468595  1.084157  1.441319  Controlled  Free   \n",
       "4       No  Yes  0.415758  0.468595  1.084157  1.441319        Free  Free   \n",
       "5       No  Yes -0.477149  0.468595 -0.774767  1.441319        Free  Free   \n",
       "6       No   No  0.242677  0.468595 -0.507259  1.441319        Free  Free   \n",
       "7      Yes  Yes -0.281010  0.468595 -1.037229  1.441319        Free  Free   \n",
       "8       No  Yes -0.153491  0.468595 -0.263782  1.441319        Free  Free   \n",
       "9       No  Yes -0.642729  0.468595 -0.952763  1.441319        Free  Free   \n",
       "\n",
       "   DISTANCE      FARE  \n",
       "0 -1.024949 -1.271156  \n",
       "1 -0.616284  0.178752  \n",
       "2 -0.944455  0.616116  \n",
       "3 -0.560557 -0.990529  \n",
       "4 -0.560557 -0.990529  \n",
       "5 -1.029593 -1.367721  \n",
       "6  0.380612  0.882029  \n",
       "7 -0.082233 -0.582332  \n",
       "8  0.425503  0.154578  \n",
       "9 -0.015670 -0.605717  "
      ]
     },
     "execution_count": 4,
     "metadata": {},
     "output_type": "execute_result"
    }
   ],
   "source": [
    "standardized_data.head(10)"
   ]
  },
  {
   "cell_type": "code",
   "execution_count": 3,
   "metadata": {},
   "outputs": [],
   "source": [
    "#Creating Dummies for Categorical Variables\n",
    "    #Create the dummies\n",
    "standardized_data[cvar_list] = standardized_data[cvar_list].astype('category')\n",
    "standardized_data[nvar_list] = standardized_data[nvar_list].astype('float64')\n",
    "\n",
    "standardized_data = pd.get_dummies(standardized_data, prefix_sep = '_')\n",
    "\n",
    "#remove one \"redundant dummy\" per each set of dummies\n",
    "rdummies = ['VACATION_No','SW_No','SLOT_Free','GATE_Constrained']\n",
    "standardized_data = standardized_data.drop(columns=rdummies)"
   ]
  },
  {
   "cell_type": "code",
   "execution_count": 4,
   "metadata": {},
   "outputs": [],
   "source": [
    "#Partition data into test and training sets\n",
    "data_for_partitioning = standardized_data.copy()\n",
    "testpart_size = .2\n",
    "non_test_data, test_data = train_test_split(data_for_partitioning, test_size = testpart_size, random_state = 1)"
   ]
  },
  {
   "cell_type": "code",
   "execution_count": 5,
   "metadata": {},
   "outputs": [
    {
     "name": "stdout",
     "output_type": "stream",
     "text": [
      "---First LASSO, alpha =  0.01 ---\n",
      "                        0\n",
      "S_INCOME         0.022521\n",
      "E_INCOME         0.062799\n",
      "S_POP            0.033497\n",
      "E_POP            0.054358\n",
      "DISTANCE         0.600097\n",
      "VACATION_Yes    -0.592885\n",
      "SW_Yes          -0.632651\n",
      "SLOT_Controlled  0.106474\n",
      "GATE_Free       -0.279766\n",
      "Intercept        0.539930\n",
      "       \n",
      "---Second LASSO, alpha =  0.1 ---\n",
      "                        0\n",
      "S_INCOME         0.053697\n",
      "E_INCOME         0.051722\n",
      "S_POP            0.017274\n",
      "E_POP            0.081628\n",
      "DISTANCE         0.514107\n",
      "VACATION_Yes    -0.142356\n",
      "SW_Yes          -0.334210\n",
      "SLOT_Controlled  0.000000\n",
      "GATE_Free       -0.000000\n",
      "Intercept        0.137609\n"
     ]
    }
   ],
   "source": [
    "#Building two LASSO regression models\n",
    "dependent_variable = 'FARE'\n",
    "y = non_test_data[dependent_variable]\n",
    "x = non_test_data.drop(columns = [dependent_variable])\n",
    "\n",
    "#Establish Alpha Penalty levels and establish the classifier that gets fed into our regression\n",
    "alpha_1 = .01\n",
    "alpha_2 = .1\n",
    "classifier_1 = Lasso(alpha = alpha_1, random_state = 1).fit(x,y)\n",
    "classifier_2 = Lasso(alpha = alpha_2, random_state = 1).fit(x,y)\n",
    "\n",
    "#With the a classifier as input, create the capability to display LASSO regressions\n",
    "def summary_coefficients(model_object):\n",
    "    n_predictors = x.shape[1]\n",
    "    model_coefficients = pd.DataFrame(model_object.coef_.reshape(1,n_predictors),columns = x.columns.values)\n",
    "    model_coefficients['Intercept'] = model_object.intercept_\n",
    "    return (model_coefficients.transpose())\n",
    "\n",
    "#run and display the first LASSO regression\n",
    "print (\"---First LASSO, alpha = \",alpha_1,\"---\")\n",
    "print(summary_coefficients(classifier_1))\n",
    "print(\"       \")\n",
    "#run and display the second LASSO regression\n",
    "print (\"---Second LASSO, alpha = \",alpha_2,\"---\")\n",
    "print(summary_coefficients(classifier_2))"
   ]
  },
  {
   "cell_type": "markdown",
   "metadata": {},
   "source": [
    "Question #1: part c"
   ]
  },
  {
   "cell_type": "code",
   "execution_count": 6,
   "metadata": {},
   "outputs": [
    {
     "name": "stdout",
     "output_type": "stream",
     "text": [
      "                        0\n",
      "S_INCOME         0.018115\n",
      "E_INCOME         0.062204\n",
      "S_POP            0.029465\n",
      "E_POP            0.046816\n",
      "DISTANCE         0.608277\n",
      "VACATION_Yes    -0.624462\n",
      "SW_Yes          -0.645253\n",
      "SLOT_Controlled  0.144712\n",
      "GATE_Free       -0.323197\n",
      "Intercept        0.575710\n"
     ]
    },
    {
     "data": {
      "image/png": "[encoded data removed]",
      "text/plain": [
       "<Figure size 576x396 with 1 Axes>"
      ]
     },
     "metadata": {},
     "output_type": "display_data"
    },
    {
     "name": "stderr",
     "output_type": "stream",
     "text": [
      "C:\\Users\\Home\\anaconda3\\lib\\site-packages\\sklearn\\base.py:209: FutureWarning: From version 0.24, get_params will raise an AttributeError if a parameter cannot be retrieved as an instance attribute. Previously it would return None.\n",
      "  warnings.warn('From version 0.24, get_params will raise an '\n"
     ]
    },
    {
     "data": {
      "text/plain": [
       "AlphaSelection(ax=<matplotlib.axes._subplots.AxesSubplot object at 0x0000021060139520>,\n",
       "               model=None)"
      ]
     },
     "execution_count": 6,
     "metadata": {},
     "output_type": "execute_result"
    }
   ],
   "source": [
    "#Using the K-folds method to find the optimal alpha\n",
    "kfolds = 5\n",
    "classifier_optimal = LassoCV(cv=kfolds, random_state=1, n_jobs = -1).fit(x,y)\n",
    "print(summary_coefficients(classifier_optimal))\n",
    "\n",
    "#Using some advice I found at https://www.scikit-yb.org/en/latest/api/regressor/alphas.html, I uncovered Python's optimal alpha.\n",
    "# Note, as a check, I re-ran the above LASSO with \"classifier_1\" and changed \"alpha_1\" to the value suggested in the below graph.\n",
    "#  Sure enough, the cofficients turned out to be very very close.\n",
    "alphas(LassoCV(random_state=0), x, y)"
   ]
  },
  {
   "cell_type": "markdown",
   "metadata": {},
   "source": [
    "Question #1: part d"
   ]
  },
  {
   "cell_type": "code",
   "execution_count": 7,
   "metadata": {},
   "outputs": [
    {
     "name": "stdout",
     "output_type": "stream",
     "text": [
      "          S_INCOME  E_INCOME     S_POP     E_POP  DISTANCE      FARE\n",
      "S_INCOME  1.000000 -0.140002  0.516779 -0.272888  0.030438  0.208563\n",
      "E_INCOME -0.140002  1.000000 -0.146626  0.458060  0.179154  0.326739\n",
      "S_POP     0.516779 -0.146626  1.000000 -0.281467  0.021207  0.145000\n",
      "E_POP    -0.272888  0.458060 -0.281467  1.000000  0.116757  0.285264\n",
      "DISTANCE  0.030438  0.179154  0.021207  0.116757  1.000000  0.672640\n",
      "FARE      0.208563  0.326739  0.145000  0.285264  0.672640  1.000000\n"
     ]
    }
   ],
   "source": [
    "#Create a correlation matrix to find correlations with the dependent variable, FARE.\n",
    "correlation_matrix = data.corr()\n",
    "print(correlation_matrix)\n"
   ]
  },
  {
   "cell_type": "markdown",
   "metadata": {},
   "source": [
    "Question #1: part e"
   ]
  },
  {
   "cell_type": "code",
   "execution_count": 8,
   "metadata": {},
   "outputs": [
    {
     "name": "stdout",
     "output_type": "stream",
     "text": [
      "                        0\n",
      "S_INCOME         0.019475\n",
      "E_INCOME         0.062388\n",
      "S_POP            0.030709\n",
      "E_POP            0.049143\n",
      "DISTANCE         0.605753\n",
      "VACATION_Yes    -0.614716\n",
      "SW_Yes          -0.641363\n",
      "SLOT_Controlled  0.132911\n",
      "GATE_Free       -0.309793\n",
      "Intercept        0.564667\n"
     ]
    },
    {
     "data": {
      "image/png": "[encoded data removed]",
      "text/plain": [
       "<Figure size 576x396 with 1 Axes>"
      ]
     },
     "metadata": {},
     "output_type": "display_data"
    },
    {
     "name": "stderr",
     "output_type": "stream",
     "text": [
      "C:\\Users\\Home\\anaconda3\\lib\\site-packages\\sklearn\\base.py:209: FutureWarning: From version 0.24, get_params will raise an AttributeError if a parameter cannot be retrieved as an instance attribute. Previously it would return None.\n",
      "  warnings.warn('From version 0.24, get_params will raise an '\n"
     ]
    },
    {
     "data": {
      "text/plain": [
       "AlphaSelection(ax=<matplotlib.axes._subplots.AxesSubplot object at 0x0000021060D10AF0>,\n",
       "               model=None)"
      ]
     },
     "execution_count": 8,
     "metadata": {},
     "output_type": "execute_result"
    }
   ],
   "source": [
    "#Re-run K-Folds LASSO regressions with folds = 3\n",
    "kfolds_2 = 3\n",
    "classifier_optimal_2 = LassoCV(cv=kfolds_2, random_state=1, n_jobs = -1).fit(x,y)\n",
    "print(summary_coefficients(classifier_optimal_2))\n",
    "\n",
    "#Using some advice I found at https://www.scikit-yb.org/en/latest/api/regressor/alphas.html, I uncovered Python's optimal alpha.\n",
    "# Note, as a check, I re-ran the above LASSO with \"classifier_1\" and changed \"alpha_1\" to the value suggested in the below graph.\n",
    "#  Sure enough, the cofficients turned out to be very very close.\n",
    "alphas(LassoCV(random_state=0), x, y)\n"
   ]
  },
  {
   "cell_type": "markdown",
   "metadata": {},
   "source": [
    "Question #1: part g"
   ]
  },
  {
   "cell_type": "code",
   "execution_count": 9,
   "metadata": {},
   "outputs": [
    {
     "name": "stdout",
     "output_type": "stream",
     "text": [
      "The ASE over the 3 fold test partition is 0.3266243850921795\n",
      "The ASE over the test partition for the model with alpha = 0.01 is 0.32721956500281546\n",
      "The ASE over the test partition for the model with alpha = 0.1 is 0.4311941761059571\n"
     ]
    }
   ],
   "source": [
    "#Among all three models, which one has the lowest ASE over the test partition?\n",
    "\n",
    "#K-Folds = 3 Cross-Validation Model\n",
    "y_test_actual_CV = test_data[dependent_variable]\n",
    "x_test_CV = test_data.drop(columns = [dependent_variable])\n",
    "y_test_predicted_CV = classifier_optimal_2.predict(x_test_CV)\n",
    "n_obs_test_CV = test_data.shape[0]\n",
    "\n",
    "ASE_test_CV = sum((y_test_actual_CV - y_test_predicted_CV)**2)/n_obs_test_CV\n",
    "print (\"The ASE over the\",kfolds_2,\"fold test partition is\",ASE_test_CV)\n",
    "\n",
    "#Model with alpha = .01\n",
    "y_test_actual_lower_alpha = test_data[dependent_variable]\n",
    "x_test_lower_alpha = test_data.drop(columns = [dependent_variable])\n",
    "y_test_predicted_lower_alpha = classifier_1.predict(x_test_lower_alpha)\n",
    "n_obs_test_lower_alpha = test_data.shape[0]\n",
    "\n",
    "ASE_test_lower_alpha = sum((y_test_actual_lower_alpha - y_test_predicted_lower_alpha)**2)/n_obs_test_lower_alpha\n",
    "print (\"The ASE over the test partition for the model with alpha =\", alpha_1, \"is\",ASE_test_lower_alpha)\n",
    "\n",
    "#Model with alpha = .1\n",
    "y_test_actual_higher_alpha = test_data[dependent_variable]\n",
    "x_test_higher_alpha = test_data.drop(columns = [dependent_variable])\n",
    "y_test_predicted_higher_alpha = classifier_2.predict(x_test_higher_alpha)\n",
    "n_obs_test_higher_alpha = test_data.shape[0]\n",
    "\n",
    "ASE_test_higher_alpha = sum((y_test_actual_higher_alpha - y_test_predicted_higher_alpha)**2)/n_obs_test_higher_alpha\n",
    "print (\"The ASE over the test partition for the model with alpha =\", alpha_2, \"is\",ASE_test_higher_alpha)"
   ]
  },
  {
   "cell_type": "markdown",
   "metadata": {},
   "source": [
    "Question #1: part h\n",
    "\n",
    "Please note: this question explicitly states \"show your calculation”. As such, I am opting to calculate and plug into the model in (e) somewhat manually rather than getting Python to do it for me using techniques like loops and the user-defined function, as shown in the lecture videos."
   ]
  },
  {
   "cell_type": "code",
   "execution_count": 12,
   "metadata": {},
   "outputs": [
    {
     "name": "stdout",
     "output_type": "stream",
     "text": [
      "The standardized value of the price on the new route is 1.199433152826707\n",
      "The unstandardized price on the new route is 252.15926444225383\n"
     ]
    }
   ],
   "source": [
    "#Coefficients from model in part (e)\n",
    "S_INCOME    =     0.019475\n",
    "E_INCOME    =     0.062388\n",
    "S_POP       =     0.030709\n",
    "E_POP       =     0.049143\n",
    "DISTANCE    =     0.605753\n",
    "VACATION_Yes  =  -0.614716\n",
    "SW_Yes       =   -0.641363\n",
    "SLOT_Controlled = 0.132911\n",
    "GATE_Free    =   -0.309793\n",
    "Intercept    =    0.564667\n",
    "\n",
    "#Values Given For New Route\n",
    "S_INCOME_new = 28760\n",
    "E_INCOME_new = 27664\n",
    "S_POP_new = 4557004\n",
    "E_POP_new = 3195503\n",
    "DISTANCE_new = 1976\n",
    "VACATION_new = 0  ###Vacation  = No\n",
    "SW_new = 0        ###SW = No\n",
    "SLOT_new = 0      ###SLOT = Free\n",
    "GATE_new = 1      ###GATE = Free\n",
    "\n",
    "#Historical data means\n",
    "S_INCOME_historical_mean = data['S_INCOME'].mean()\n",
    "E_INCOME_historical_mean = data['E_INCOME'].mean()\n",
    "S_POP_historical_mean = data['S_POP'].mean()\n",
    "E_POP_historical_mean = data['E_POP'].mean()\n",
    "DISTANCE_historical_mean = data['DISTANCE'].mean()\n",
    "\n",
    "FARE_historical_mean = data['FARE'].mean()\n",
    "\n",
    "#Historical data standard deviations\n",
    "S_INCOME_historical_stddev = data['S_INCOME'].std()\n",
    "E_INCOME_historical_stddev = data['E_INCOME'].std()\n",
    "S_POP_historical_stddev = data['S_POP'].std()\n",
    "E_POP_historical_stddev = data['E_POP'].std()\n",
    "DISTANCE_historical_stddev = data['DISTANCE'].std()\n",
    "\n",
    "FARE_historical_stddev = data['FARE'].std()\n",
    "\n",
    "#New Data Standardized Numerical Values\n",
    "S_INCOME_new_standardized = (S_INCOME_new - S_INCOME_historical_mean)/S_INCOME_historical_stddev\n",
    "E_INCOME_new_standardized = (E_INCOME_new - E_INCOME_historical_mean)/E_INCOME_historical_stddev\n",
    "S_POP_new_standardized = (S_POP_new - S_POP_historical_mean)/S_POP_historical_stddev\n",
    "E_POP_new_standardized = (E_POP_new - E_POP_historical_mean)/E_POP_historical_stddev\n",
    "DISTANCE_new_standardized = (DISTANCE_new - DISTANCE_historical_mean)/DISTANCE_historical_stddev\n",
    "\n",
    "#Predicted New Route Price (Standardized)\n",
    "predicted_new_route_FARE_standardized_numerical_component = Intercept + (S_INCOME * S_INCOME_new_standardized) + (E_INCOME * E_INCOME_new_standardized) + (S_POP * S_POP_new_standardized) + (E_POP * E_POP_new_standardized) + (DISTANCE * DISTANCE_new_standardized)\n",
    "predicted_new_route_FARE_categorical_component = (VACATION_Yes * VACATION_new) + (SW_Yes * SW_new) + (SLOT_Controlled * SLOT_new) + (GATE_Free * GATE_new)\n",
    "\n",
    "predicted_new_route_FARE_standardized = predicted_new_route_FARE_standardized_numerical_component + predicted_new_route_FARE_categorical_component\n",
    "print(\"The standardized value of the price on the new route is\",predicted_new_route_FARE_standardized)\n",
    "\n",
    "#Convert Standardized Price Back to Dollars\n",
    "predicted_new_route_FARE_unstandardized = (predicted_new_route_FARE_standardized * FARE_historical_stddev) + FARE_historical_mean\n",
    "print(\"The unstandardized price on the new route is\",predicted_new_route_FARE_unstandardized)"
   ]
  },
  {
   "cell_type": "markdown",
   "metadata": {},
   "source": [
    "Question #1: part i"
   ]
  },
  {
   "cell_type": "code",
   "execution_count": 13,
   "metadata": {},
   "outputs": [
    {
     "name": "stdout",
     "output_type": "stream",
     "text": [
      "The standardized value of the price on the new route, now also serviced by SouthWest is 0.558070152826707\n",
      "The standardized value of the price on the new route, now also serviced by SouthWest is 203.34183161156074\n"
     ]
    }
   ],
   "source": [
    "#Change the Southwest dummy from \"off\" to \"on\" and plug into the above formulas\n",
    "SW_new = 1\n",
    "\n",
    "#Predicted New Route Price (Standardized)\n",
    "predicted_new_route_FARE_standardized_numerical_component = Intercept + (S_INCOME * S_INCOME_new_standardized) + (E_INCOME * E_INCOME_new_standardized) + (S_POP * S_POP_new_standardized) + (E_POP * E_POP_new_standardized) + (DISTANCE * DISTANCE_new_standardized)\n",
    "predicted_new_route_FARE_categorical_component = (VACATION_Yes * VACATION_new) + (SW_Yes * SW_new) + (SLOT_Controlled * SLOT_new) + (GATE_Free * GATE_new)\n",
    "\n",
    "predicted_new_route_FARE_standardized = predicted_new_route_FARE_standardized_numerical_component + predicted_new_route_FARE_categorical_component\n",
    "print(\"The standardized value of the price on the new route, now also serviced by SouthWest is\",predicted_new_route_FARE_standardized)\n",
    "\n",
    "#Convert Standardized Price Back to Dollars\n",
    "predicted_new_route_FARE_unstandardized = (predicted_new_route_FARE_standardized * FARE_historical_stddev) + FARE_historical_mean\n",
    "print(\"The standardized value of the price on the new route, now also serviced by SouthWest is\",predicted_new_route_FARE_unstandardized)\n"
   ]
  },
  {
   "cell_type": "markdown",
   "metadata": {},
   "source": [
    "Question #1: part j\n",
    "\n",
    "The next several cells in the notebook are all for part j, in order to better segment the results"
   ]
  },
  {
   "cell_type": "code",
   "execution_count": 15,
   "metadata": {},
   "outputs": [],
   "source": [
    "data = pd.read_csv(r'C:\\Users\\Home\\Documents\\Data Mining\\Assignments\\Assignment 3\\HW3_Airfares_Selected.csv')\n",
    "\n",
    "#generate lists of categorical and numerical variables\n",
    "cvar_list = ['VACATION', 'SW', 'SLOT','GATE']\n",
    "nvar_list = ['S_INCOME','E_INCOME','S_POP','E_POP','DISTANCE','FARE']\n",
    "\n",
    "#standardizing numerical values for use in model\n",
    "standardized_data = data.copy()\n",
    "\n",
    "original_column_values = data[nvar_list]\n",
    "sample_mean = data[nvar_list].mean()\n",
    "sample_stddev = data[nvar_list].std()\n",
    "\n",
    "standardized_data[nvar_list] = ((original_column_values - sample_mean)/sample_stddev)\n",
    "\n",
    "#Creating Dummies for Categorical Variables\n",
    "    #Create the dummies\n",
    "standardized_data[cvar_list] = standardized_data[cvar_list].astype('category')\n",
    "standardized_data[nvar_list] = standardized_data[nvar_list].astype('float64')\n",
    "\n",
    "standardized_data = pd.get_dummies(standardized_data, prefix_sep = '_')\n",
    "\n",
    "#designate \"SLOT_Controlled\" instead of \"SLOT_Free\" as one of the dummies to drop\n",
    "rdummies_2 = ['VACATION_No','SW_No','SLOT_Controlled','GATE_Constrained']\n",
    "standardized_data_2 = standardized_data.drop(columns=rdummies_2)\n",
    "\n",
    "data_for_partitioning = standardized_data_2.copy()\n",
    "testpart_size = .2\n",
    "non_test_data, test_data = train_test_split(data_for_partitioning, test_size = testpart_size, random_state = 1)"
   ]
  },
  {
   "cell_type": "code",
   "execution_count": 19,
   "metadata": {},
   "outputs": [
    {
     "name": "stdout",
     "output_type": "stream",
     "text": [
      "---First LASSO, alpha =  0.01 ---\n",
      "                     0\n",
      "S_INCOME      0.022521\n",
      "E_INCOME      0.062799\n",
      "S_POP         0.033497\n",
      "E_POP         0.054358\n",
      "DISTANCE      0.600097\n",
      "VACATION_Yes -0.592885\n",
      "SW_Yes       -0.632651\n",
      "SLOT_Free    -0.106474\n",
      "GATE_Free    -0.279766\n",
      "Intercept     0.646405\n",
      "       \n",
      "---Second LASSO, alpha =  0.1 ---\n",
      "                     0\n",
      "S_INCOME      0.053697\n",
      "E_INCOME      0.051722\n",
      "S_POP         0.017274\n",
      "E_POP         0.081628\n",
      "DISTANCE      0.514107\n",
      "VACATION_Yes -0.142356\n",
      "SW_Yes       -0.334210\n",
      "SLOT_Free    -0.000000\n",
      "GATE_Free    -0.000000\n",
      "Intercept     0.137609\n"
     ]
    }
   ],
   "source": [
    "#Building two LASSO regression models\n",
    "dependent_variable = 'FARE'\n",
    "y = non_test_data[dependent_variable]\n",
    "x = non_test_data.drop(columns = [dependent_variable])\n",
    "\n",
    "#Establish Alpha Penalty levels and establish the classifier that gets fed into our regression\n",
    "alpha_1 = .01\n",
    "alpha_2 = .1\n",
    "classifier_1 = Lasso(alpha = alpha_1, random_state = 1).fit(x,y)\n",
    "classifier_2 = Lasso(alpha = alpha_2, random_state = 1).fit(x,y)\n",
    "\n",
    "#With the a classifier as input, create the capability to display LASSO regressions\n",
    "def summary_coefficients(model_object):\n",
    "    n_predictors = x.shape[1]\n",
    "    model_coefficients = pd.DataFrame(model_object.coef_.reshape(1,n_predictors),columns = x.columns.values)\n",
    "    model_coefficients['Intercept'] = model_object.intercept_\n",
    "    return (model_coefficients.transpose())\n",
    "\n",
    "#run and display the first LASSO regression\n",
    "print (\"---First LASSO, alpha = \",alpha_1,\"---\")\n",
    "print(summary_coefficients(classifier_1))\n",
    "print(\"       \")\n",
    "#run and display the second LASSO regression\n",
    "print (\"---Second LASSO, alpha = \",alpha_2,\"---\")\n",
    "print(summary_coefficients(classifier_2))"
   ]
  },
  {
   "cell_type": "code",
   "execution_count": 20,
   "metadata": {},
   "outputs": [
    {
     "name": "stdout",
     "output_type": "stream",
     "text": [
      "                     0\n",
      "S_INCOME      0.019475\n",
      "E_INCOME      0.062388\n",
      "S_POP         0.030709\n",
      "E_POP         0.049143\n",
      "DISTANCE      0.605753\n",
      "VACATION_Yes -0.614716\n",
      "SW_Yes       -0.641363\n",
      "SLOT_Free    -0.132911\n",
      "GATE_Free    -0.309793\n",
      "Intercept     0.697578\n"
     ]
    },
    {
     "data": {
      "image/png": "[encoded data removed]",
      "text/plain": [
       "<Figure size 576x396 with 1 Axes>"
      ]
     },
     "metadata": {},
     "output_type": "display_data"
    },
    {
     "name": "stderr",
     "output_type": "stream",
     "text": [
      "C:\\Users\\Home\\anaconda3\\lib\\site-packages\\sklearn\\base.py:209: FutureWarning: From version 0.24, get_params will raise an AttributeError if a parameter cannot be retrieved as an instance attribute. Previously it would return None.\n",
      "  warnings.warn('From version 0.24, get_params will raise an '\n"
     ]
    },
    {
     "data": {
      "text/plain": [
       "AlphaSelection(ax=<matplotlib.axes._subplots.AxesSubplot object at 0x0000021061112640>,\n",
       "               model=None)"
      ]
     },
     "execution_count": 20,
     "metadata": {},
     "output_type": "execute_result"
    }
   ],
   "source": [
    "#Re-run K-Folds LASSO regressions with folds = 3\n",
    "kfolds_2 = 3\n",
    "classifier_optimal_2 = LassoCV(cv=kfolds_2, random_state=1, n_jobs = -1).fit(x,y)\n",
    "print(summary_coefficients(classifier_optimal_2))\n",
    "\n",
    "#Using some advice I found at https://www.scikit-yb.org/en/latest/api/regressor/alphas.html, I uncovered Python's optimal alpha.\n",
    "# Note, as a check, I re-ran the above LASSO with \"classifier_1\" and changed \"alpha_1\" to the value suggested in the below graph.\n",
    "#  Sure enough, the cofficients turned out to be very very close.\n",
    "alphas(LassoCV(random_state=0), x, y)"
   ]
  },
  {
   "cell_type": "code",
   "execution_count": 21,
   "metadata": {},
   "outputs": [
    {
     "name": "stdout",
     "output_type": "stream",
     "text": [
      "The ASE over the 3 fold test partition is 0.32662438509217945\n"
     ]
    }
   ],
   "source": [
    "#ASE for K-Folds = 3 Cross-Validation Model\n",
    "y_test_actual_CV = test_data[dependent_variable]\n",
    "x_test_CV = test_data.drop(columns = [dependent_variable])\n",
    "y_test_predicted_CV = classifier_optimal_2.predict(x_test_CV)\n",
    "n_obs_test_CV = test_data.shape[0]\n",
    "\n",
    "ASE_test_CV = sum((y_test_actual_CV - y_test_predicted_CV)**2)/n_obs_test_CV\n",
    "print (\"The ASE over the\",kfolds_2,\"fold test partition is\",ASE_test_CV)"
   ]
  },
  {
   "cell_type": "code",
   "execution_count": 22,
   "metadata": {},
   "outputs": [
    {
     "name": "stdout",
     "output_type": "stream",
     "text": [
      "The standardized value of the price on the new route is 1.199433152826707\n",
      "The unstandardized price on the new route is 252.15926444225383\n"
     ]
    }
   ],
   "source": [
    "#Coefficients from K-folds model in part (j),\n",
    "S_INCOME   =   0.019475\n",
    "E_INCOME   =   0.062388\n",
    "S_POP      =   0.030709\n",
    "E_POP      =   0.049143\n",
    "DISTANCE   =   0.605753\n",
    "VACATION_Yes = -0.614716\n",
    "SW_Yes     =  -0.641363\n",
    "SLOT_Free  =  -0.132911\n",
    "GATE_Free  =  -0.309793\n",
    "Intercept  =   0.697578\n",
    "\n",
    "#Values Given For New Route\n",
    "S_INCOME_new = 28760\n",
    "E_INCOME_new = 27664\n",
    "S_POP_new = 4557004\n",
    "E_POP_new = 3195503\n",
    "DISTANCE_new = 1976\n",
    "VACATION_new = 0  ###Vacation  = No\n",
    "SW_new = 0        ###SW = No\n",
    "SLOT_new = 1      ###SLOT = Free\n",
    "GATE_new = 1      ###GATE = Free\n",
    "\n",
    "#Historical data means\n",
    "S_INCOME_historical_mean = data['S_INCOME'].mean()\n",
    "E_INCOME_historical_mean = data['E_INCOME'].mean()\n",
    "S_POP_historical_mean = data['S_POP'].mean()\n",
    "E_POP_historical_mean = data['E_POP'].mean()\n",
    "DISTANCE_historical_mean = data['DISTANCE'].mean()\n",
    "\n",
    "FARE_historical_mean = data['FARE'].mean()\n",
    "\n",
    "#Historical data standard deviations\n",
    "S_INCOME_historical_stddev = data['S_INCOME'].std()\n",
    "E_INCOME_historical_stddev = data['E_INCOME'].std()\n",
    "S_POP_historical_stddev = data['S_POP'].std()\n",
    "E_POP_historical_stddev = data['E_POP'].std()\n",
    "DISTANCE_historical_stddev = data['DISTANCE'].std()\n",
    "\n",
    "FARE_historical_stddev = data['FARE'].std()\n",
    "\n",
    "#New Data Standardized Numerical Values\n",
    "S_INCOME_new_standardized = (S_INCOME_new - S_INCOME_historical_mean)/S_INCOME_historical_stddev\n",
    "E_INCOME_new_standardized = (E_INCOME_new - E_INCOME_historical_mean)/E_INCOME_historical_stddev\n",
    "S_POP_new_standardized = (S_POP_new - S_POP_historical_mean)/S_POP_historical_stddev\n",
    "E_POP_new_standardized = (E_POP_new - E_POP_historical_mean)/E_POP_historical_stddev\n",
    "DISTANCE_new_standardized = (DISTANCE_new - DISTANCE_historical_mean)/DISTANCE_historical_stddev\n",
    "\n",
    "#Predicted New Route Price (Standardized)\n",
    "predicted_new_route_FARE_standardized_numerical_component = Intercept + (S_INCOME * S_INCOME_new_standardized) + (E_INCOME * E_INCOME_new_standardized) + (S_POP * S_POP_new_standardized) + (E_POP * E_POP_new_standardized) + (DISTANCE * DISTANCE_new_standardized)\n",
    "predicted_new_route_FARE_categorical_component = (VACATION_Yes * VACATION_new) + (SW_Yes * SW_new) + (SLOT_Free * SLOT_new) + (GATE_Free * GATE_new)\n",
    "\n",
    "predicted_new_route_FARE_standardized = predicted_new_route_FARE_standardized_numerical_component + predicted_new_route_FARE_categorical_component\n",
    "print(\"The standardized value of the price on the new route is\",predicted_new_route_FARE_standardized)\n",
    "\n",
    "#Convert Standardized Price Back to Dollars\n",
    "predicted_new_route_FARE_unstandardized = (predicted_new_route_FARE_standardized * FARE_historical_stddev) + FARE_historical_mean\n",
    "print(\"The unstandardized price on the new route is\",predicted_new_route_FARE_unstandardized)"
   ]
  },
  {
   "cell_type": "code",
   "execution_count": null,
   "metadata": {},
   "outputs": [],
   "source": []
  }
 ],
 "metadata": {
  "kernelspec": {
   "display_name": "Python 3",
   "language": "python",
   "name": "python3"
  },
  "language_info": {
   "codemirror_mode": {
    "name": "ipython",
    "version": 3
   },
   "file_extension": ".py",
   "mimetype": "text/x-python",
   "name": "python",
   "nbconvert_exporter": "python",
   "pygments_lexer": "ipython3",
   "version": "3.8.3"
  }
 },
 "nbformat": 4,
 "nbformat_minor": 4
}
